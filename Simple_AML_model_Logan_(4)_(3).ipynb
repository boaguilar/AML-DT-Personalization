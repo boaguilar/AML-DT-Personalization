{
  "cells": [
    {
      "cell_type": "code",
      "execution_count": 1,
      "metadata": {
        "id": "YPBYX-YJxqlr"
      },
      "outputs": [],
      "source": [
        "import numpy as np\n",
        "import pandas as pd\n",
        "import matplotlib.pyplot as plt\n",
        "from scipy.integrate import odeint\n",
        "import pysindy as ps\n",
        "from pysindy.feature_library import PolynomialLibrary\n",
        "from pysindy.differentiation import FiniteDifference\n",
        "from mpl_toolkits import mplot3d\n",
        "from scipy.optimize import curve_fit\n",
        "from pysindy.feature_library import CustomLibrary\n",
        "import math\n",
        "import pysindy.feature_library\n",
        "from scipy.signal import savgol_filter"
      ]
    },
    {
      "cell_type": "code",
      "execution_count": 1,
      "metadata": {
        "colab": {
          "base_uri": "https://localhost:8080/"
        },
        "id": "jxkVg6Hl3sb-",
        "outputId": "38f9f1dc-e11f-4b43-8df0-8d19cc43954f"
      },
      "outputs": [
        {
          "output_type": "stream",
          "name": "stdout",
          "text": [
            "Requirement already satisfied: pysindy in /usr/local/lib/python3.11/dist-packages (1.7.5)\n",
            "Requirement already satisfied: scikit-learn>=0.23 in /usr/local/lib/python3.11/dist-packages (from pysindy) (1.6.1)\n",
            "Requirement already satisfied: numpy in /usr/local/lib/python3.11/dist-packages (from pysindy) (1.23.5)\n",
            "Requirement already satisfied: scipy in /usr/local/lib/python3.11/dist-packages (from pysindy) (1.15.3)\n",
            "Requirement already satisfied: derivative in /usr/local/lib/python3.11/dist-packages (from pysindy) (0.6.3)\n",
            "Requirement already satisfied: matplotlib in /usr/local/lib/python3.11/dist-packages (from pysindy) (3.10.0)\n",
            "Requirement already satisfied: cmake in /usr/local/lib/python3.11/dist-packages (from pysindy) (3.31.6)\n",
            "Requirement already satisfied: scs!=2.1.4,>=2.1 in /usr/local/lib/python3.11/dist-packages (from pysindy) (3.2.7.post2)\n",
            "Requirement already satisfied: joblib>=1.2.0 in /usr/local/lib/python3.11/dist-packages (from scikit-learn>=0.23->pysindy) (1.5.0)\n",
            "Requirement already satisfied: threadpoolctl>=3.1.0 in /usr/local/lib/python3.11/dist-packages (from scikit-learn>=0.23->pysindy) (3.6.0)\n",
            "Requirement already satisfied: importlib-metadata>=7.1.0 in /usr/local/lib/python3.11/dist-packages (from derivative->pysindy) (8.7.0)\n",
            "Requirement already satisfied: contourpy>=1.0.1 in /usr/local/lib/python3.11/dist-packages (from matplotlib->pysindy) (1.3.2)\n",
            "Requirement already satisfied: cycler>=0.10 in /usr/local/lib/python3.11/dist-packages (from matplotlib->pysindy) (0.12.1)\n",
            "Requirement already satisfied: fonttools>=4.22.0 in /usr/local/lib/python3.11/dist-packages (from matplotlib->pysindy) (4.58.0)\n",
            "Requirement already satisfied: kiwisolver>=1.3.1 in /usr/local/lib/python3.11/dist-packages (from matplotlib->pysindy) (1.4.8)\n",
            "Requirement already satisfied: packaging>=20.0 in /usr/local/lib/python3.11/dist-packages (from matplotlib->pysindy) (24.2)\n",
            "Requirement already satisfied: pillow>=8 in /usr/local/lib/python3.11/dist-packages (from matplotlib->pysindy) (11.2.1)\n",
            "Requirement already satisfied: pyparsing>=2.3.1 in /usr/local/lib/python3.11/dist-packages (from matplotlib->pysindy) (3.2.3)\n",
            "Requirement already satisfied: python-dateutil>=2.7 in /usr/local/lib/python3.11/dist-packages (from matplotlib->pysindy) (2.9.0.post0)\n",
            "Requirement already satisfied: zipp>=3.20 in /usr/local/lib/python3.11/dist-packages (from importlib-metadata>=7.1.0->derivative->pysindy) (3.21.0)\n",
            "Requirement already satisfied: six>=1.5 in /usr/local/lib/python3.11/dist-packages (from python-dateutil>=2.7->matplotlib->pysindy) (1.17.0)\n"
          ]
        }
      ],
      "source": [
        "!pip install pysindy # I needed this to use colab. You do not need to run this"
      ]
    },
    {
      "cell_type": "code",
      "execution_count": 2,
      "metadata": {
        "colab": {
          "base_uri": "https://localhost:8080/",
          "height": 588
        },
        "id": "-4oliJbks9K3",
        "outputId": "59fb349b-0f08-46bf-d445-1603cf5ad48e"
      },
      "outputs": [
        {
          "output_type": "stream",
          "name": "stdout",
          "text": [
            "Collecting numpy==1.23.5\n",
            "  Using cached numpy-1.23.5-cp311-cp311-manylinux_2_17_x86_64.manylinux2014_x86_64.whl.metadata (2.3 kB)\n",
            "Using cached numpy-1.23.5-cp311-cp311-manylinux_2_17_x86_64.manylinux2014_x86_64.whl (17.1 MB)\n",
            "Installing collected packages: numpy\n",
            "  Attempting uninstall: numpy\n",
            "    Found existing installation: numpy 1.23.5\n",
            "    Uninstalling numpy-1.23.5:\n",
            "      Successfully uninstalled numpy-1.23.5\n",
            "\u001b[31mERROR: pip's dependency resolver does not currently take into account all the packages that are installed. This behaviour is the source of the following dependency conflicts.\n",
            "jaxlib 0.5.1 requires numpy>=1.25, but you have numpy 1.23.5 which is incompatible.\n",
            "jax 0.5.2 requires numpy>=1.25, but you have numpy 1.23.5 which is incompatible.\n",
            "xarray 2025.3.1 requires numpy>=1.24, but you have numpy 1.23.5 which is incompatible.\n",
            "tensorflow 2.18.0 requires numpy<2.1.0,>=1.26.0, but you have numpy 1.23.5 which is incompatible.\n",
            "bigframes 2.4.0 requires numpy>=1.24.0, but you have numpy 1.23.5 which is incompatible.\n",
            "blosc2 3.3.2 requires numpy>=1.26, but you have numpy 1.23.5 which is incompatible.\n",
            "chex 0.1.89 requires numpy>=1.24.1, but you have numpy 1.23.5 which is incompatible.\n",
            "treescope 0.1.9 requires numpy>=1.25.2, but you have numpy 1.23.5 which is incompatible.\n",
            "scikit-image 0.25.2 requires numpy>=1.24, but you have numpy 1.23.5 which is incompatible.\n",
            "pymc 5.22.0 requires numpy>=1.25.0, but you have numpy 1.23.5 which is incompatible.\n",
            "imbalanced-learn 0.13.0 requires numpy<3,>=1.24.3, but you have numpy 1.23.5 which is incompatible.\n",
            "thinc 8.3.6 requires numpy<3.0.0,>=2.0.0, but you have numpy 1.23.5 which is incompatible.\n",
            "albumentations 2.0.6 requires numpy>=1.24.4, but you have numpy 1.23.5 which is incompatible.\n",
            "albucore 0.0.24 requires numpy>=1.24.4, but you have numpy 1.23.5 which is incompatible.\n",
            "db-dtypes 1.4.3 requires numpy>=1.24.0, but you have numpy 1.23.5 which is incompatible.\u001b[0m\u001b[31m\n",
            "\u001b[0mSuccessfully installed numpy-1.23.5\n"
          ]
        },
        {
          "output_type": "display_data",
          "data": {
            "application/vnd.colab-display-data+json": {
              "pip_warning": {
                "packages": [
                  "numpy"
                ]
              },
              "id": "df3f84f8683b4513998aa8cb9bb78792"
            }
          },
          "metadata": {}
        }
      ],
      "source": [
        "!pip install --force-reinstall numpy==1.23.5 #needed for colab. You do not need to run"
      ]
    },
    {
      "cell_type": "code",
      "execution_count": 66,
      "metadata": {
        "id": "1KKIovadxqlt"
      },
      "outputs": [],
      "source": [
        "def logistic_growth_controlled(y, t, params, treatment_function, cycles):\n",
        "    \"\"\"\n",
        "    Differential equation for logistic growth with a control term for Leukemic stem cells in active\n",
        "\n",
        "    Args:\n",
        "        y (float): Current population size.\n",
        "        t (float): Current time.\n",
        "        params (array float): array with parameter values.\n",
        "        treatment_function : A function that takes time and cycles (t, cycle) and returns  u in {0,1}  ( 0 means no treatment and 1 treatment).\n",
        "        cycles : treatment cycles\n",
        "\n",
        "    Returns:\n",
        "        float: The rate of change of the population size (dy/dt).\n",
        "    \"\"\"\n",
        "    control = treatment_function(t,cycles)\n",
        "    p_l, K_A, d_k, c = params\n",
        "    dydt = ( p_l * (1 - y / K_A) - c*control -d_k ) * y\n",
        "    # =p_l * y -(pl/KA)*y^2-c*control*y-dk*y=-(pl/KA)y^2+(pl-c*control-dk)*y\n",
        "    return dydt"
      ]
    },
    {
      "cell_type": "code",
      "execution_count": 67,
      "metadata": {
        "colab": {
          "base_uri": "https://localhost:8080/"
        },
        "id": "Leu4eCoryGGy",
        "outputId": "09891daf-6bcb-45f7-d673-3fc7effb90ef"
      },
      "outputs": [
        {
          "output_type": "stream",
          "name": "stdout",
          "text": [
            "Drive already mounted at /content/gdrive; to attempt to forcibly remount, call drive.mount(\"/content/gdrive\", force_remount=True).\n"
          ]
        }
      ],
      "source": [
        "from google.colab import drive #this was for colab as well\n",
        "drive.mount('/content/gdrive')"
      ]
    },
    {
      "cell_type": "code",
      "execution_count": 68,
      "metadata": {
        "id": "QndTY7cIxqlu"
      },
      "outputs": [],
      "source": [
        "## This is how we read the treatment data for a patient\n",
        "def treatment_cycle( patient_id ) :\n",
        "\n",
        "    #patient_id = 104\n",
        "    # read all data.  [[ Boris ]] Its inefficient to read all data here; but we can optimize this later\n",
        "    chemo_data = pd.read_csv('gdrive/My Drive/rsif20200091_si_003.csv')\n",
        "    # get treatment information from a specific patient\n",
        "    chemo_row = chemo_data[chemo_data.PatientID==patient_id].iloc[0]\n",
        "\n",
        "    chemo_start_times = [int(x) for x in chemo_row['Chemo_begin'].split()] # starting times of therapy cycle\n",
        "    chemo_end_times = [int(x) for x in chemo_row['Chemo_end'].split()] #\n",
        "\n",
        "    return   [ chemo_start_times , chemo_end_times ]    ## [[ Boris ]] we may need a better data structure here\n"
      ]
    },
    {
      "cell_type": "code",
      "execution_count": 69,
      "metadata": {
        "id": "v0hJLZBRxqlv"
      },
      "outputs": [],
      "source": [
        "# Define a control function (example: constant control after a certain time)\n",
        "def treatment_function(time, cycles ):\n",
        "\n",
        "    chemo_start_times, chemo_end_times  = cycles\n",
        "\n",
        "    Ncycles = len(chemo_start_times)\n",
        "\n",
        "    for i in range(Ncycles) :\n",
        "        if chemo_start_times[i] <= time <= chemo_end_times[i]  :\n",
        "            return 1.0  # Apply 60% control\n",
        "\n",
        "    return 0.0  # No control\n"
      ]
    },
    {
      "cell_type": "markdown",
      "metadata": {
        "id": "gXiwGZKbxqlv"
      },
      "source": [
        "## Run a Simulation"
      ]
    },
    {
      "cell_type": "code",
      "execution_count": 170,
      "metadata": {
        "id": "fgpuvn8-xqlx",
        "colab": {
          "base_uri": "https://localhost:8080/"
        },
        "outputId": "a369a10b-33a2-4084-aff5-16220ad969ff"
      },
      "outputs": [
        {
          "output_type": "stream",
          "name": "stdout",
          "text": [
            "[2.050000e-02 2.100000e-02 2.150000e-02 ... 4.999990e+02 4.999995e+02\n",
            " 5.000000e+02]\n",
            "(999232,)\n"
          ]
        }
      ],
      "source": [
        "## Seting parameters for simulations\n",
        "p_l = 0.11337807\n",
        "K_A = 10000\n",
        "d_k = 1/30\n",
        "c = 1.2114013\n",
        "\n",
        "# Initial value\n",
        "La_o = 10000*.10\n",
        "\n",
        "t = np.linspace(0, 500, 1000001) # Time points\n",
        "\n",
        "discont=np.array([0,6,19,25,62,66,116,120,168,172]) #points where treatment turns on and off\n",
        "epsilon=0.02\n",
        "for point in discont:\n",
        "  t = t[(t < point-epsilon) | (t > point+epsilon)] #remove a small range of time points around the discontinuity\n",
        "\n",
        "print(t)\n",
        "\n",
        "\n",
        "\n",
        "print(t.shape)"
      ]
    },
    {
      "cell_type": "code",
      "execution_count": 171,
      "metadata": {
        "colab": {
          "base_uri": "https://localhost:8080/"
        },
        "id": "NP-pPdkpxqlx",
        "outputId": "a929122a-b987-4a67-f5df-da1ceaac4148"
      },
      "outputs": [
        {
          "output_type": "stream",
          "name": "stdout",
          "text": [
            "[[1000.        ]\n",
            " [ 999.42881733]\n",
            " [ 998.85796366]\n",
            " ...\n",
            " [7059.1191025 ]\n",
            " [7059.11913711]\n",
            " [7059.11917172]]\n",
            "999232\n"
          ]
        }
      ],
      "source": [
        "## Generate a trajectory with patient control\n",
        "\n",
        "# determine treatment cycles\n",
        "## This is how we read the treatment data for a patient\n",
        "patient_id = 104\n",
        "cycles = treatment_cycle( patient_id )\n",
        "\n",
        "# names of the parameters to fit\n",
        "params = [p_l, K_A, d_k, c]\n",
        "\n",
        "results = odeint(logistic_growth_controlled, La_o , t, args=(params, treatment_function, cycles))\n",
        "print(results)\n",
        "print(results.shape[0])\n",
        "\n"
      ]
    },
    {
      "cell_type": "code",
      "execution_count": 172,
      "metadata": {
        "colab": {
          "base_uri": "https://localhost:8080/"
        },
        "id": "7ZOq2zAfRpjO",
        "outputId": "301ec063-f090-4b55-b5be-e271ae9bb361"
      },
      "outputs": [
        {
          "output_type": "stream",
          "name": "stdout",
          "text": [
            "The size of X' is  (999232, 1)\n"
          ]
        }
      ],
      "source": [
        "fd=FiniteDifference()\n",
        "results_prime=fd._differentiate(results,t) #derivative does not include c, X'\n",
        "print(\"The size of X' is \", results_prime.shape)"
      ]
    },
    {
      "cell_type": "code",
      "execution_count": 175,
      "metadata": {
        "colab": {
          "base_uri": "https://localhost:8080/",
          "height": 472
        },
        "id": "e7S9X01zNn-s",
        "outputId": "268814e2-3443-4cdd-b507-8f390299101f"
      },
      "outputs": [
        {
          "output_type": "display_data",
          "data": {
            "text/plain": [
              "<Figure size 640x480 with 1 Axes>"
            ],
            "image/png": "[encoded data removed]"
          },
          "metadata": {}
        }
      ],
      "source": [
        "#plot the original trajectory and its derivative\n",
        "fig, ax = plt.subplots()\n",
        "chemo_start_times, chemo_end_times = cycles\n",
        "plt.plot(t, results, label='y')\n",
        "plt.plot(t, results_prime, label='y_prime')\n",
        "plt.yscale('log')\n",
        "\n",
        "for i, (start, end) in enumerate(zip(chemo_start_times, chemo_end_times)):\n",
        "    label = None\n",
        "    # the reason for the i=0 is so that we only have one thing in the legend, rather than a separate legend for every cycle.\n",
        "    if i == 0:\n",
        "        label = 'chemo'\n",
        "    plt.fill_between([start, end], 0, 1, alpha=0.2, color='red',\n",
        "                        label=label, transform=ax.get_xaxis_transform())\n",
        "\n",
        "#results_smooth = savgol_filter(results, window_length=30, polyorder=11, axis=0) # window size 51, polynomial order 3\n",
        "#plt.plot(t, results_smooth, label='y_smooth')\n",
        "\n",
        "\n",
        "### Added This Part ###\n",
        "plt.axhline(y = 1, color = 'r', linestyle = '--')\n",
        "plt.title(f'Patient {patient_id}')\n",
        "plt.xlabel('time (days)')\n",
        "plt.ylabel('Cell count')\n",
        "plt.legend()\n",
        "plt.show()"
      ]
    },
    {
      "cell_type": "code",
      "execution_count": 163,
      "metadata": {
        "colab": {
          "base_uri": "https://localhost:8080/",
          "height": 472
        },
        "id": "R_cKsdRkxqly",
        "outputId": "0c211681-f80e-4739-a518-3732a09cd970"
      },
      "outputs": [
        {
          "output_type": "display_data",
          "data": {
            "text/plain": [
              "<Figure size 640x480 with 1 Axes>"
            ],
            "image/png": "[encoded data removed]"
          },
          "metadata": {}
        }
      ],
      "source": [
        "# plot a simple simulation\n",
        "#original trajectory on its own\n",
        "\n",
        "fig, ax = plt.subplots()\n",
        "chemo_start_times, chemo_end_times = cycles\n",
        "plt.plot(t, results, label='y')\n",
        "plt.yscale('log')\n",
        "\n",
        "for i, (start, end) in enumerate(zip(chemo_start_times, chemo_end_times)):\n",
        "    label = None\n",
        "    # the reason for the i=0 is so that we only have one thing in the legend, rather than a separate legend for every cycle.\n",
        "    if i == 0:\n",
        "        label = 'chemo'\n",
        "    plt.fill_between([start, end], 0, 1, alpha=0.2, color='red',\n",
        "                        label=label, transform=ax.get_xaxis_transform())\n",
        "\n",
        "#results_smooth = savgol_filter(results, window_length=30, polyorder=11, axis=0) # window size 51, polynomial order 3\n",
        "#plt.plot(t, results_smooth, label='y_smooth')\n",
        "\n",
        "\n",
        "### Added This Part ###\n",
        "plt.axhline(y = 1, color = 'r', linestyle = '--')\n",
        "plt.title(f'Patient {patient_id}')\n",
        "plt.xlabel('time (days)')\n",
        "plt.ylabel('Cell count')\n",
        "plt.legend()\n",
        "plt.show()\n"
      ]
    },
    {
      "cell_type": "code",
      "execution_count": 164,
      "metadata": {
        "colab": {
          "base_uri": "https://localhost:8080/"
        },
        "id": "0L70TrUv1Dam",
        "outputId": "34bca7d0-0eac-4a1b-8688-fca487cd1436"
      },
      "outputs": [
        {
          "output_type": "stream",
          "name": "stdout",
          "text": [
            "999991\n",
            "(999991, 1)\n",
            "(999991,)\n",
            "(999991, 2)\n",
            "The size of X' is  (999991, 1)\n",
            "['f0(x0)', 'f0(x1)', 'f1(x0)', 'f1(x1)', 'f2(x0,x1)']\n",
            "The size of theta_c is (999991, 5)\n",
            "Xi is  [[ 8.00447377e-02]\n",
            " [ 9.73294069e-06]\n",
            " [-1.13378072e-05]\n",
            " [ 9.73294079e-06]\n",
            " [-1.21140138e+00]]\n",
            "5\n",
            "1\n"
          ]
        },
        {
          "output_type": "stream",
          "name": "stderr",
          "text": [
            "<__array_function__ internals>:180: FutureWarning: `rcond` parameter will change to the default of machine precision times ``max(M, N)`` where M and N are the input matrix dimensions.\n",
            "To use the future default and silence this warning we advise to pass `rcond=None`, to keep using the old, explicitly pass `rcond=-1`.\n"
          ]
        },
        {
          "output_type": "stream",
          "name": "stdout",
          "text": [
            "[[ 8.00447377e-02]\n",
            " [ 9.73294069e-06]\n",
            " [-1.13378072e-05]\n",
            " [ 9.73294079e-06]\n",
            " [-1.21140138e+00]]\n",
            "(5, 1)\n"
          ]
        }
      ],
      "source": [
        "#using SINDy for one trajectory of hoffman\n",
        "\n",
        "control_values=[]\n",
        "num_rows,num_col=results.shape\n",
        "print(num_rows)\n",
        "\n",
        "for time in t:\n",
        "      control_values.append(treatment_function(time,cycles)) #get the control values for each time point\n",
        "print(results.shape)\n",
        "\n",
        "results=np.array(results)\n",
        "control_values=np.array(control_values)\n",
        "\n",
        "\n",
        "\n",
        "\n",
        "#goal is to solve X'=Theta(X)*Xi for Xi\n",
        "\n",
        "\n",
        "#data=results_smooth\n",
        "#data_c=np.c_[results_smooth,control_values] #adds control_values as a second column\n",
        "\n",
        "#print(control_values.shape)\n",
        "#print(data_c.shape)\n",
        "\n",
        "data=results\n",
        "data_c=np.c_[results,control_values] #adds control_values as a second column\n",
        "\n",
        "print(control_values.shape)\n",
        "print(data_c.shape)\n",
        "\n",
        "#Derivatives X'\n",
        "fd=FiniteDifference()\n",
        "data_prime=fd._differentiate(data,t) #derivative does not include c, X'\n",
        "print(\"The size of X' is \", data_prime.shape)\n",
        "\n",
        "\n",
        "\n",
        "#Libraries (Theta(X))\n",
        "theta_lib_c=PolynomialLibrary(degree=2) #restrict to polynomials of deg 2\n",
        "functions = [lambda x : x, lambda x : x*x, lambda x ,y : x*y]\n",
        "customlib=CustomLibrary(library_functions=functions)\n",
        "\n",
        "customlib.fit(data_c) #fit to our data\n",
        "print(customlib.get_feature_names())\n",
        "theta_c=customlib.transform(data_c) #transform to the correct size (,5)\n",
        "print(\"The size of theta_c is\", theta_c.shape)\n",
        "\n",
        "#solve X'=Theta(X)*Xi for Xi\n",
        "#use least squares solution as initial guess\n",
        "Xi=np.linalg.lstsq(theta_c,data_prime)[0] #Is our initial guess using Python's least squares solver\n",
        "print(\"Xi is \", Xi)\n",
        "\n",
        "Xi_row,Xi_col=Xi.shape\n",
        "print(Xi_row)\n",
        "print(Xi_col)\n",
        "\n",
        "\n",
        "\n",
        "Lambda=0.000000000001 #Sparsification knob (this was the value given in the PNAS paper for Lorenz)\n",
        "            #This loop is adapted from the Sindy_PNAS paper, SI Appendix and converted into Python\n",
        "for k in range(1000):\n",
        "  smallinds=(np.absolute(Xi)<Lambda) #find all \"very small\" coefficients\n",
        "               #print(smallinds)\n",
        "  Xi[smallinds]=0 #set them=0\n",
        "            #print(Eps_P)\n",
        "  for ind in range(Xi_col): #Xi_col is the number of state variables\n",
        "     biginds=np.logical_not(smallinds[:,ind]) #regress dynamics onto remaining terms\n",
        "     Xi[biginds,ind]=np.linalg.lstsq(theta_c[:,biginds],data_prime[:,ind])[0]\n",
        "print(Xi)\n",
        "\n",
        "print(Xi.shape)\n",
        "\n",
        "#print(results)"
      ]
    },
    {
      "cell_type": "code",
      "execution_count": 165,
      "metadata": {
        "colab": {
          "base_uri": "https://localhost:8080/",
          "height": 472
        },
        "id": "v56AZ9lqxjyP",
        "outputId": "3b10bcdf-65da-4b15-ba19-de14bb7c7752"
      },
      "outputs": [
        {
          "output_type": "display_data",
          "data": {
            "text/plain": [
              "<Figure size 640x480 with 1 Axes>"
            ],
            "image/png": "[encoded data removed]"
          },
          "metadata": {}
        }
      ],
      "source": [
        "# plot a simple simulation\n",
        "\n",
        "fig, ax = plt.subplots()\n",
        "chemo_start_times, chemo_end_times = cycles\n",
        "plt.plot(t, data_prime, label='y')\n",
        "plt.yscale('log')\n",
        "\n",
        "for i, (start, end) in enumerate(zip(chemo_start_times, chemo_end_times)):\n",
        "    label = None\n",
        "    # the reason for the i=0 is so that we only have one thing in the legend, rather than a separate legend for every cycle.\n",
        "    if i == 0:\n",
        "        label = 'chemo'\n",
        "    plt.fill_between([start, end], 0, 1, alpha=0.2, color='red',\n",
        "                        label=label, transform=ax.get_xaxis_transform())\n",
        "\n",
        "#results_smooth = savgol_filter(results, window_length=30, polyorder=11, axis=0) # window size 51, polynomial order 3\n",
        "#plt.plot(t, results_smooth, label='y_smooth')\n",
        "\n",
        "\n",
        "### Added This Part ###\n",
        "plt.axhline(y = 1, color = 'r', linestyle = '--')\n",
        "plt.title(f'Patient {patient_id}')\n",
        "plt.xlabel('time (days)')\n",
        "plt.ylabel('Cell count')\n",
        "plt.legend()\n",
        "plt.show()"
      ]
    },
    {
      "cell_type": "code",
      "execution_count": 166,
      "metadata": {
        "colab": {
          "base_uri": "https://localhost:8080/"
        },
        "id": "WmmvBPQVs1ZZ",
        "outputId": "31387e30-b57a-40ea-a170-58e95768be1b"
      },
      "outputs": [
        {
          "output_type": "stream",
          "name": "stdout",
          "text": [
            "[[1.00000000e+03 1.00000000e+00 1.00000000e+06 1.00000000e+00\n",
            "  1.00000000e+03]\n",
            " [9.99428818e+02 1.00000000e+00 9.98857961e+05 1.00000000e+00\n",
            "  9.99428818e+02]\n",
            " [9.98857965e+02 1.00000000e+00 9.97717233e+05 1.00000000e+00\n",
            "  9.98857965e+02]\n",
            " ...\n",
            " [7.05909937e+03 0.00000000e+00 4.98308840e+07 0.00000000e+00\n",
            "  0.00000000e+00]\n",
            " [7.05909941e+03 0.00000000e+00 4.98308845e+07 0.00000000e+00\n",
            "  0.00000000e+00]\n",
            " [7.05909944e+03 0.00000000e+00 4.98308850e+07 0.00000000e+00\n",
            "  0.00000000e+00]]\n"
          ]
        }
      ],
      "source": [
        "print(theta_c)"
      ]
    },
    {
      "cell_type": "code",
      "execution_count": 167,
      "metadata": {
        "id": "xjZ4mdzAs1Zb"
      },
      "outputs": [],
      "source": [
        "def recovered_model(y, t, params, treatment_function, cycles):\n",
        "    \"\"\"\n",
        "    Differential equation for model recovered by SINDy\n",
        "\n",
        "    Args:\n",
        "        y (float): Current population size.\n",
        "        t (float): Current time.\n",
        "        params (array float): array with parameter values.\n",
        "\n",
        "\n",
        "    Returns:\n",
        "        float: The rate of change of the population size (dy/dt).\n",
        "    \"\"\"\n",
        "    control = treatment_function(t,cycles)\n",
        "    a0,a1,a2,a3,a4=params\n",
        "    dydt = a0*y+a1*control+a2*y*y+a3*control*control+a4*y*control\n",
        "\n",
        "    return dydt"
      ]
    },
    {
      "cell_type": "code",
      "execution_count": 168,
      "metadata": {
        "colab": {
          "base_uri": "https://localhost:8080/"
        },
        "id": "B_OtCSX3wA0V",
        "outputId": "50a1d144-2a44-40f3-fe09-3e321d3ad74c"
      },
      "outputs": [
        {
          "output_type": "stream",
          "name": "stdout",
          "text": [
            "[[1000.        ]\n",
            " [ 999.42881753]\n",
            " [ 998.85796451]\n",
            " ...\n",
            " [7059.09937371]\n",
            " [7059.09940912]\n",
            " [7059.09944452]]\n",
            "[[1000.        ]\n",
            " [ 999.42881751]\n",
            " [ 998.85796445]\n",
            " ...\n",
            " [7059.20956028]\n",
            " [7059.20959127]\n",
            " [7059.20962226]]\n",
            "3672.524839232037\n"
          ]
        }
      ],
      "source": [
        "a0=Xi[0]\n",
        "a1=Xi[1]\n",
        "a2=Xi[2]\n",
        "a3=Xi[3]\n",
        "a4=Xi[4]\n",
        "params=[a0,a1,a2,a3,a4]\n",
        "results_hat = odeint(recovered_model, La_o , t, args=(params,treatment_function,cycles))\n",
        "print(results)\n",
        "print(results_hat)\n",
        "MSE = np.square(np.subtract(results[:,0],results_hat[:,0])).mean()\n",
        "print(MSE)"
      ]
    },
    {
      "cell_type": "code",
      "execution_count": 169,
      "metadata": {
        "colab": {
          "base_uri": "https://localhost:8080/",
          "height": 430
        },
        "id": "tBd5a19F1Llg",
        "outputId": "6d9cfcaf-d231-48c1-f3ac-f13dd767e6f9"
      },
      "outputs": [
        {
          "output_type": "display_data",
          "data": {
            "text/plain": [
              "<Figure size 640x480 with 1 Axes>"
            ],
            "image/png": "[encoded data removed]"
          },
          "metadata": {}
        }
      ],
      "source": [
        "# plot a simple simulation\n",
        "fig, ax = plt.subplots()\n",
        "chemo_start_times, chemo_end_times = cycles\n",
        "plt.plot(t, results, label='y')\n",
        "plt.plot(t, results_hat, label='y_hat')\n",
        "plt.yscale('log')"
      ]
    },
    {
      "cell_type": "code",
      "execution_count": null,
      "metadata": {
        "id": "jQwtJ4y3xqly"
      },
      "outputs": [],
      "source": [
        "# determine treatment cycles\n",
        "cycles = [ [],[] ] # we provide empty treatment cycles\n",
        "\n",
        "# names of the parameters to fit\n",
        "params = [p_l, K_A, d_k, c]\n",
        "## This is how we read the treatment data for a patient\n",
        "\n",
        "results = odeint(logistic_growth_controlled, La_o , t, args=(params, treatment_function, cycles))"
      ]
    },
    {
      "cell_type": "code",
      "execution_count": null,
      "metadata": {
        "colab": {
          "base_uri": "https://localhost:8080/"
        },
        "id": "Zk37KhZk1atM",
        "outputId": "b0c04a81-fc2f-4236-8a26-c2939aa4054d"
      },
      "outputs": [
        {
          "name": "stdout",
          "output_type": "stream",
          "text": [
            "501\n",
            "(501, 1)\n",
            "(501,)\n",
            "(501, 2)\n",
            "The size of X' is  (501, 1)\n",
            "['f0(x0)', 'f0(x1)', 'f1(x0)', 'f1(x1)', 'f2(x0,x1)']\n",
            "The size of theta_c is (501, 5)\n",
            "Xi is  [[ 8.00232952e-02]\n",
            " [ 0.00000000e+00]\n",
            " [-1.13347314e-05]\n",
            " [ 0.00000000e+00]\n",
            " [ 0.00000000e+00]]\n",
            "5\n",
            "1\n",
            "[[ 8.00232952e-02]\n",
            " [ 0.00000000e+00]\n",
            " [-1.13347314e-05]\n",
            " [ 0.00000000e+00]\n",
            " [ 0.00000000e+00]]\n",
            "(5, 1)\n"
          ]
        }
      ],
      "source": [
        "#using SINDy for one trajectory of hoffman\n",
        "\n",
        "control_values=[]\n",
        "num_rows,num_col=results.shape\n",
        "print(num_rows)\n",
        "\n",
        "for time in t:\n",
        "      control_values.append(treatment_function(time,cycles)) #get the control values for each time point\n",
        "print(results.shape)\n",
        "\n",
        "results=np.array(results)\n",
        "control_values=np.array(control_values)\n",
        "\n",
        "\n",
        "\n",
        "\n",
        "#goal is to solve X'=Theta(X)*Xi for Xi\n",
        "\n",
        "#Data matrices (X) (one includes c, once does not)\n",
        "#data_c=np.stack((results, control_values), axis=-1) # data includes control\n",
        "data=results\n",
        "data_c=np.c_[results,control_values] #adds control_values as a second column\n",
        "\n",
        "print(control_values.shape)\n",
        "print(data_c.shape)\n",
        "\n",
        "#Derivatives X'\n",
        "fd=FiniteDifference()\n",
        "data_prime=fd._differentiate(results,t) #derivative does not include c, X'\n",
        "print(\"The size of X' is \", data_prime.shape)\n",
        "\n",
        "\n",
        "\n",
        "#Libraries (Theta(X))\n",
        "theta_lib_c=PolynomialLibrary(degree=2) #restrict to polynomials of deg 2\n",
        "functions = [lambda x : x, lambda x : x*x, lambda x ,y : x*y]\n",
        "customlib=CustomLibrary(library_functions=functions)\n",
        "\n",
        "customlib.fit(data_c) #fit to our data\n",
        "print(customlib.get_feature_names())\n",
        "theta_c=customlib.transform(data_c) #transform to the correct size (,5)\n",
        "print(\"The size of theta_c is\", theta_c.shape)\n",
        "\n",
        "#solve X'=Theta(X)*Xi for Xi\n",
        "#use least squares solution as initial guess\n",
        "Xi=np.linalg.lstsq(theta_c,data_prime)[0] #Is our initial guess using Python's least squares solver\n",
        "print(\"Xi is \", Xi)\n",
        "\n",
        "Xi_row,Xi_col=Xi.shape\n",
        "print(Xi_row)\n",
        "print(Xi_col)\n",
        "\n",
        "\n",
        "\n",
        "Lambda=0.000000000001 #Sparsification knob (this was the value given in the PNAS paper for Lorenz)\n",
        "            #This loop is adapted from the Sindy_PNAS paper, SI Appendix and converted into Python\n",
        "for k in range(1000):\n",
        "  smallinds=(np.absolute(Xi)<Lambda) #find all \"very small\" coefficients\n",
        "               #print(smallinds)\n",
        "  Xi[smallinds]=0 #set them=0\n",
        "            #print(Eps_P)\n",
        "  for ind in range(Xi_col): #5 is the number of state variables\n",
        "     biginds=np.logical_not(smallinds[:,ind]) #regress dynamics onto remaining terms\n",
        "     Xi[biginds,ind]=np.linalg.lstsq(theta_c[:,biginds],data_prime[:,ind])[0]\n",
        "print(Xi)\n",
        "\n",
        "print(Xi.shape)\n",
        "\n",
        "#print(results)"
      ]
    },
    {
      "cell_type": "code",
      "execution_count": null,
      "metadata": {
        "colab": {
          "base_uri": "https://localhost:8080/"
        },
        "id": "R4gQRLYy1-6k",
        "outputId": "ed924781-7a61-4482-deb5-35ec317918d0"
      },
      "outputs": [
        {
          "name": "stdout",
          "output_type": "stream",
          "text": [
            "[[1000.        ]\n",
            " [1070.67765406]\n",
            " [1145.40648305]\n",
            " [1224.28491209]\n",
            " [1307.3945878 ]\n",
            " [1394.79763198]\n",
            " [1486.53394317]\n",
            " [1582.61823666]\n",
            " [1683.03767129]\n",
            " [1787.7492045 ]\n",
            " [1896.67744471]\n",
            " [2009.71277602]\n",
            " [2126.70994036]\n",
            " [2247.48710266]\n",
            " [2371.82561171]\n",
            " [2499.47030355]\n",
            " [2630.13060104]\n",
            " [2763.48233815]\n",
            " [2899.17033074]\n",
            " [3036.81167346]\n",
            " [3175.99970049]\n",
            " [3316.30862988]\n",
            " [3457.2985163 ]\n",
            " [3598.52090937]\n",
            " [3739.52422703]\n",
            " [3879.8597394 ]\n",
            " [4019.08724389]\n",
            " [4156.7804257 ]\n",
            " [4292.53199623]\n",
            " [4425.95828865]\n",
            " [4556.70325368]\n",
            " [4684.44176037]\n",
            " [4808.88220513]\n",
            " [4929.76835955]\n",
            " [5046.88046129]\n",
            " [5160.03560189]\n",
            " [5269.08744617]\n",
            " [5373.92535247]\n",
            " [5474.47291938]\n",
            " [5570.68619582]\n",
            " [5662.55140941]\n",
            " [5750.08261536]\n",
            " [5833.31889727]\n",
            " [5912.32179627]\n",
            " [5987.17241045]\n",
            " [6057.96871644]\n",
            " [6124.82292354]\n",
            " [6187.85887758]\n",
            " [6247.20976985]\n",
            " [6303.01584849]\n",
            " [6355.42247039]\n",
            " [6404.57825209]\n",
            " [6450.63347101]\n",
            " [6493.73864768]\n",
            " [6534.0433158 ]\n",
            " [6571.69497449]\n",
            " [6606.83824997]\n",
            " [6639.61408128]\n",
            " [6670.1592635 ]\n",
            " [6698.60587914]\n",
            " [6725.08100488]\n",
            " [6749.70651827]\n",
            " [6772.59879111]\n",
            " [6793.86882139]\n",
            " [6813.62198759]\n",
            " [6831.95827262]\n",
            " [6848.97222113]\n",
            " [6864.75308969]\n",
            " [6879.38503287]\n",
            " [6892.94716119]\n",
            " [6905.5138575 ]\n",
            " [6917.15484104]\n",
            " [6927.93546857]\n",
            " [6937.91688153]\n",
            " [6947.15623149]\n",
            " [6955.70690446]\n",
            " [6963.61868512]\n",
            " [6970.93800375]\n",
            " [6977.70808196]\n",
            " [6983.9691902 ]\n",
            " [6989.75878118]\n",
            " [6995.11163425]\n",
            " [7000.0601229 ]\n",
            " [7004.63426069]\n",
            " [7008.8619242 ]\n",
            " [7012.76900819]\n",
            " [7016.37946914]\n",
            " [7019.71557433]\n",
            " [7022.79793997]\n",
            " [7025.64564556]\n",
            " [7028.27641373]\n",
            " [7030.70660591]\n",
            " [7032.95139054]\n",
            " [7035.02482774]\n",
            " [7036.93988237]\n",
            " [7038.70858676]\n",
            " [7040.34208012]\n",
            " [7041.85064871]\n",
            " [7043.2437831 ]\n",
            " [7044.53022891]\n",
            " [7045.71815219]\n",
            " [7046.8150738 ]\n",
            " [7047.82792699]\n",
            " [7048.76314364]\n",
            " [7049.62666269]\n",
            " [7050.42396242]\n",
            " [7051.16011135]\n",
            " [7051.83978879]\n",
            " [7052.46730678]\n",
            " [7053.04665851]\n",
            " [7053.58153877]\n",
            " [7054.0753564 ]\n",
            " [7054.53126042]\n",
            " [7054.95215845]\n",
            " [7055.34073228]\n",
            " [7055.699459  ]\n",
            " [7056.03063192]\n",
            " [7056.33636307]\n",
            " [7056.61860216]\n",
            " [7056.87915568]\n",
            " [7057.11968876]\n",
            " [7057.34173839]\n",
            " [7057.54672528]\n",
            " [7057.73595908]\n",
            " [7057.91064704]\n",
            " [7058.07190824]\n",
            " [7058.22077439]\n",
            " [7058.35819677]\n",
            " [7058.48505546]\n",
            " [7058.60216259]\n",
            " [7058.71026684]\n",
            " [7058.81006054]\n",
            " [7058.90218266]\n",
            " [7058.98722212]\n",
            " [7059.06572227]\n",
            " [7059.13818734]\n",
            " [7059.20508075]\n",
            " [7059.26683114]\n",
            " [7059.32383454]\n",
            " [7059.37645526]\n",
            " [7059.42502866]\n",
            " [7059.46986573]\n",
            " [7059.51125409]\n",
            " [7059.54945953]\n",
            " [7059.58472846]\n",
            " [7059.61728469]\n",
            " [7059.64733628]\n",
            " [7059.67507746]\n",
            " [7059.70068825]\n",
            " [7059.72432933]\n",
            " [7059.7461517 ]\n",
            " [7059.76629627]\n",
            " [7059.78489292]\n",
            " [7059.8020585 ]\n",
            " [7059.81790323]\n",
            " [7059.83253002]\n",
            " [7059.84603279]\n",
            " [7059.85849642]\n",
            " [7059.87000119]\n",
            " [7059.88062195]\n",
            " [7059.89042595]\n",
            " [7059.89947499]\n",
            " [7059.90782758]\n",
            " [7059.91553853]\n",
            " [7059.92265803]\n",
            " [7059.92922964]\n",
            " [7059.93529546]\n",
            " [7059.94089482]\n",
            " [7059.94606439]\n",
            " [7059.95083628]\n",
            " [7059.95524068]\n",
            " [7059.95930605]\n",
            " [7059.9630591 ]\n",
            " [7059.96652374]\n",
            " [7059.9697215 ]\n",
            " [7059.97267305]\n",
            " [7059.97539775]\n",
            " [7059.97791345]\n",
            " [7059.98023558]\n",
            " [7059.98237893]\n",
            " [7059.98435739]\n",
            " [7059.98618495]\n",
            " [7059.98787022]\n",
            " [7059.98942619]\n",
            " [7059.99086254]\n",
            " [7059.99218853]\n",
            " [7059.99341258]\n",
            " [7059.99454215]\n",
            " [7059.99558466]\n",
            " [7059.99654702]\n",
            " [7059.99743567]\n",
            " [7059.99825652]\n",
            " [7059.9990148 ]\n",
            " [7059.99971527]\n",
            " [7060.00036221]\n",
            " [7060.00095938]\n",
            " [7060.00151004]\n",
            " [7060.00201739]\n",
            " [7060.00248579]\n",
            " [7060.00291828]\n",
            " [7060.00331748]\n",
            " [7060.0036857 ]\n",
            " [7060.00402488]\n",
            " [7060.00433754]\n",
            " [7060.00462628]\n",
            " [7060.00489296]\n",
            " [7060.00513927]\n",
            " [7060.00536669]\n",
            " [7060.00558109]\n",
            " [7060.00577236]\n",
            " [7060.00595032]\n",
            " [7060.00611548]\n",
            " [7060.00626835]\n",
            " [7060.00640945]\n",
            " [7060.00653948]\n",
            " [7060.00665948]\n",
            " [7060.00677015]\n",
            " [7060.00687218]\n",
            " [7060.00696623]\n",
            " [7060.00705301]\n",
            " [7060.00713319]\n",
            " [7060.00720722]\n",
            " [7060.00727535]\n",
            " [7060.00733812]\n",
            " [7060.00739606]\n",
            " [7060.0074497 ]\n",
            " [7060.00749957]\n",
            " [7060.00754619]\n",
            " [7060.00758956]\n",
            " [7060.00762955]\n",
            " [7060.00766644]\n",
            " [7060.00770049]\n",
            " [7060.00773197]\n",
            " [7060.00776113]\n",
            " [7060.00779592]\n",
            " [7060.00781802]\n",
            " [7060.00783896]\n",
            " [7060.00785875]\n",
            " [7060.00787738]\n",
            " [7060.00789486]\n",
            " [7060.00791119]\n",
            " [7060.00792636]\n",
            " [7060.00794052]\n",
            " [7060.00795369]\n",
            " [7060.00796587]\n",
            " [7060.00797707]\n",
            " [7060.00798729]\n",
            " [7060.00799653]\n",
            " [7060.00800479]\n",
            " [7060.00801235]\n",
            " [7060.00801939]\n",
            " [7060.00802592]\n",
            " [7060.00803193]\n",
            " [7060.00803742]\n",
            " [7060.0080424 ]\n",
            " [7060.00804686]\n",
            " [7060.00805093]\n",
            " [7060.00805475]\n",
            " [7060.00805833]\n",
            " [7060.00806167]\n",
            " [7060.00806477]\n",
            " [7060.00806762]\n",
            " [7060.00807024]\n",
            " [7060.00807264]\n",
            " [7060.0080749 ]\n",
            " [7060.00807702]\n",
            " [7060.00807902]\n",
            " [7060.00808087]\n",
            " [7060.00808259]\n",
            " [7060.00808417]\n",
            " [7060.00808562]\n",
            " [7060.00808699]\n",
            " [7060.00808827]\n",
            " [7060.00808946]\n",
            " [7060.00809057]\n",
            " [7060.00809159]\n",
            " [7060.00809253]\n",
            " [7060.00809338]\n",
            " [7060.00809418]\n",
            " [7060.00809492]\n",
            " [7060.00809562]\n",
            " [7060.00809626]\n",
            " [7060.00809686]\n",
            " [7060.0080974 ]\n",
            " [7060.00809789]\n",
            " [7060.00809835]\n",
            " [7060.00809877]\n",
            " [7060.00809917]\n",
            " [7060.00809954]\n",
            " [7060.00809988]\n",
            " [7060.0081002 ]\n",
            " [7060.00810049]\n",
            " [7060.00810096]\n",
            " [7060.00810143]\n",
            " [7060.00810187]\n",
            " [7060.0081023 ]\n",
            " [7060.00810271]\n",
            " [7060.0081031 ]\n",
            " [7060.00810348]\n",
            " [7060.00810384]\n",
            " [7060.00810418]\n",
            " [7060.0081045 ]\n",
            " [7060.00810481]\n",
            " [7060.0081051 ]\n",
            " [7060.00810537]\n",
            " [7060.00810562]\n",
            " [7060.00810586]\n",
            " [7060.00810608]\n",
            " [7060.00810628]\n",
            " [7060.00810647]\n",
            " [7060.00810664]\n",
            " [7060.00810679]\n",
            " [7060.00810692]\n",
            " [7060.00810704]\n",
            " [7060.00810714]\n",
            " [7060.00810722]\n",
            " [7060.00810728]\n",
            " [7060.00810733]\n",
            " [7060.00810736]\n",
            " [7060.00810737]\n",
            " [7060.00810737]\n",
            " [7060.00810735]\n",
            " [7060.00810731]\n",
            " [7060.00810725]\n",
            " [7060.00810718]\n",
            " [7060.00810709]\n",
            " [7060.00810698]\n",
            " [7060.00810685]\n",
            " [7060.00810671]\n",
            " [7060.00810655]\n",
            " [7060.00810641]\n",
            " [7060.00810647]\n",
            " [7060.00810653]\n",
            " [7060.00810658]\n",
            " [7060.00810663]\n",
            " [7060.00810667]\n",
            " [7060.00810671]\n",
            " [7060.00810674]\n",
            " [7060.00810677]\n",
            " [7060.0081068 ]\n",
            " [7060.00810682]\n",
            " [7060.00810684]\n",
            " [7060.00810685]\n",
            " [7060.00810686]\n",
            " [7060.00810686]\n",
            " [7060.00810686]\n",
            " [7060.00810685]\n",
            " [7060.00810684]\n",
            " [7060.00810682]\n",
            " [7060.0081068 ]\n",
            " [7060.00810678]\n",
            " [7060.00810675]\n",
            " [7060.00810672]\n",
            " [7060.00810668]\n",
            " [7060.00810664]\n",
            " [7060.00810659]\n",
            " [7060.00810654]\n",
            " [7060.00810648]\n",
            " [7060.00810642]\n",
            " [7060.00810636]\n",
            " [7060.00810629]\n",
            " [7060.00810621]\n",
            " [7060.00810614]\n",
            " [7060.00810605]\n",
            " [7060.00810596]\n",
            " [7060.00810587]\n",
            " [7060.00810578]\n",
            " [7060.00810567]\n",
            " [7060.00810557]\n",
            " [7060.00810555]\n",
            " [7060.00810552]\n",
            " [7060.00810549]\n",
            " [7060.00810546]\n",
            " [7060.00810543]\n",
            " [7060.00810541]\n",
            " [7060.00810538]\n",
            " [7060.00810535]\n",
            " [7060.00810532]\n",
            " [7060.00810529]\n",
            " [7060.00810527]\n",
            " [7060.00810524]\n",
            " [7060.00810521]\n",
            " [7060.00810518]\n",
            " [7060.00810515]\n",
            " [7060.00810512]\n",
            " [7060.0081051 ]\n",
            " [7060.00810507]\n",
            " [7060.00810504]\n",
            " [7060.00810501]\n",
            " [7060.00810498]\n",
            " [7060.00810495]\n",
            " [7060.00810493]\n",
            " [7060.0081049 ]\n",
            " [7060.00810487]\n",
            " [7060.00810484]\n",
            " [7060.00810481]\n",
            " [7060.00810478]\n",
            " [7060.00810476]\n",
            " [7060.00810473]\n",
            " [7060.0081047 ]\n",
            " [7060.00810467]\n",
            " [7060.00810464]\n",
            " [7060.00810461]\n",
            " [7060.00810459]\n",
            " [7060.00810456]\n",
            " [7060.00810453]\n",
            " [7060.0081045 ]\n",
            " [7060.00810447]\n",
            " [7060.00810446]\n",
            " [7060.00810446]\n",
            " [7060.00810445]\n",
            " [7060.00810445]\n",
            " [7060.00810445]\n",
            " [7060.00810445]\n",
            " [7060.00810445]\n",
            " [7060.00810445]\n",
            " [7060.00810445]\n",
            " [7060.00810445]\n",
            " [7060.00810445]\n",
            " [7060.00810445]\n",
            " [7060.00810445]\n",
            " [7060.00810445]\n",
            " [7060.00810444]\n",
            " [7060.00810444]\n",
            " [7060.00810444]\n",
            " [7060.00810444]\n",
            " [7060.00810444]\n",
            " [7060.00810444]\n",
            " [7060.00810444]\n",
            " [7060.00810444]\n",
            " [7060.00810444]\n",
            " [7060.00810444]\n",
            " [7060.00810444]\n",
            " [7060.00810443]\n",
            " [7060.00810443]\n",
            " [7060.00810443]\n",
            " [7060.00810443]\n",
            " [7060.00810443]\n",
            " [7060.00810443]\n",
            " [7060.00810443]\n",
            " [7060.00810443]\n",
            " [7060.00810443]\n",
            " [7060.00810443]\n",
            " [7060.00810443]\n",
            " [7060.00810442]\n",
            " [7060.00810442]\n",
            " [7060.00810442]\n",
            " [7060.00810442]\n",
            " [7060.00810442]\n",
            " [7060.00810442]\n",
            " [7060.00810442]\n",
            " [7060.00810442]\n",
            " [7060.00810442]\n",
            " [7060.00810442]\n",
            " [7060.00810442]\n",
            " [7060.00810442]\n",
            " [7060.00810441]\n",
            " [7060.00810441]\n",
            " [7060.00810441]\n",
            " [7060.00810441]\n",
            " [7060.00810441]\n",
            " [7060.00810441]\n",
            " [7060.00810441]\n",
            " [7060.00810441]\n",
            " [7060.00810441]\n",
            " [7060.00810441]\n",
            " [7060.00810441]\n",
            " [7060.0081044 ]\n",
            " [7060.0081044 ]\n",
            " [7060.0081044 ]\n",
            " [7060.0081044 ]\n",
            " [7060.0081044 ]\n",
            " [7060.0081044 ]\n",
            " [7060.0081044 ]\n",
            " [7060.0081044 ]\n",
            " [7060.0081044 ]\n",
            " [7060.0081044 ]\n",
            " [7060.0081044 ]\n",
            " [7060.00810439]\n",
            " [7060.00810439]\n",
            " [7060.00810439]\n",
            " [7060.00810439]\n",
            " [7060.00810439]\n",
            " [7060.00810439]\n",
            " [7060.00810439]\n",
            " [7060.00810439]\n",
            " [7060.00810439]\n",
            " [7060.00810439]\n",
            " [7060.00810439]\n",
            " [7060.00810439]\n",
            " [7060.00810438]\n",
            " [7060.00810438]\n",
            " [7060.00810438]\n",
            " [7060.00810438]\n",
            " [7060.00810438]\n",
            " [7060.00810438]\n",
            " [7060.00810438]\n",
            " [7060.00810438]\n",
            " [7060.00810438]\n",
            " [7060.00810438]\n",
            " [7060.00810438]]\n",
            "0.06508376094308599\n"
          ]
        }
      ],
      "source": [
        "a0=Xi[0]\n",
        "a1=Xi[1]\n",
        "a2=Xi[2]\n",
        "a3=Xi[3]\n",
        "a4=Xi[4]\n",
        "params=[a0,a1,a2,a3,a4]\n",
        "results_hat = odeint(recovered_model, La_o , t, args=(params,treatment_function,cycles))\n",
        "print(results_hat)\n",
        "MSE = np.square(np.subtract(results[:,0],results_hat[:,0])).mean()\n",
        "print(MSE)"
      ]
    },
    {
      "cell_type": "code",
      "execution_count": null,
      "metadata": {
        "colab": {
          "base_uri": "https://localhost:8080/",
          "height": 472
        },
        "id": "isLoohDaxqlz",
        "outputId": "5c0b41a3-8b9a-402f-c80a-c181c8235a44"
      },
      "outputs": [
        {
          "data": {
            "image/png": "[encoded data removed]",
            "text/plain": [
              "<Figure size 640x480 with 1 Axes>"
            ]
          },
          "metadata": {},
          "output_type": "display_data"
        }
      ],
      "source": [
        "# plot a simple simulation\n",
        "fig, ax = plt.subplots()\n",
        "chemo_start_times, chemo_end_times = cycles\n",
        "plt.plot(t, results, label='y')\n",
        "plt.plot(t, results_hat, label='y_hat')\n",
        "plt.yscale('log')\n",
        "\n",
        "for i, (start, end) in enumerate(zip(chemo_start_times, chemo_end_times)):\n",
        "    label = None\n",
        "    # the reason for the i=0 is so that we only have one thing in the legend, rather than a separate legend for every cycle.\n",
        "    if i == 0:\n",
        "        label = 'chemo'\n",
        "    plt.fill_between([start, end], 0, 1, alpha=0.2, color='red',\n",
        "                        label=label, transform=ax.get_xaxis_transform())\n",
        "### Added This Part ###\n",
        "plt.axhline(y = 1, color = 'r', linestyle = '--')\n",
        "plt.title(f'Patient {patient_id}')\n",
        "plt.xlabel('time (days)')\n",
        "plt.ylabel('Cell count')\n",
        "plt.legend()\n",
        "plt.show()"
      ]
    }
  ],
  "metadata": {
    "colab": {
      "provenance": []
    },
    "kernelspec": {
      "display_name": "Python 3 (ipykernel)",
      "language": "python",
      "name": "python3"
    },
    "language_info": {
      "codemirror_mode": {
        "name": "ipython",
        "version": 3
      },
      "file_extension": ".py",
      "mimetype": "text/x-python",
      "name": "python",
      "nbconvert_exporter": "python",
      "pygments_lexer": "ipython3",
      "version": "3.12.4"
    }
  },
  "nbformat": 4,
  "nbformat_minor": 0
}